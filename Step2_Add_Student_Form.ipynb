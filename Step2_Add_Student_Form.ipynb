{
 "cells": [
  {
   "cell_type": "markdown",
   "id": "6a0949f2",
   "metadata": {},
   "source": [
    "# Step 2 — 在网页中添加学生（表单交互）\n",
    "\n",
    "**目标（Goal）**  \n",
    "- 学习如何在网页中用表单 `<form>` 收集用户输入。  \n",
    "- 把表单输入的数据添加到 Python 的 `students` 列表里。  \n",
    "- 体会“网页按钮/输入 → Python 列表变化 → 页面刷新”的过程。\n",
    "\n",
    "**使用顺序**  \n",
    "1. 先运行“数据单元格”，确认 `students` 列表存在。  \n",
    "2. 再运行“Flask 单元格”，启动服务器。  \n",
    "3. 打开浏览器访问 `http://127.0.0.1:5002/students`。  \n",
    "4. 在表单中输入新学生的名字，提交后刷新页面，看到 `students` 列表更新。  \n"
   ]
  },
  {
   "cell_type": "code",
   "execution_count": 1,
   "id": "aede5326",
   "metadata": {},
   "outputs": [
    {
     "name": "stdout",
     "output_type": "stream",
     "text": [
      "当前学生列表:\n",
      "1. Alice\n",
      "2. Bob\n",
      "3. Charlie\n"
     ]
    }
   ],
   "source": [
    "# ===== 数据层（Data layer） =====\n",
    "students = [\"Alice\", \"Bob\", \"Charlie\"]\n",
    "\n",
    "print(\"当前学生列表:\")\n",
    "for i, name in enumerate(students, start=1):\n",
    "    print(f\"{i}. {name}\")\n",
    "\n",
    "def get_student_lines():\n",
    "    return [f\"{i+1}. {name}\" for i, name in enumerate(students)]\n"
   ]
  },
  {
   "cell_type": "markdown",
   "id": "e5983e3d",
   "metadata": {},
   "source": [
    "### 小练习\n",
    "1. 在上面的 `students` 里再加两个名字，运行后观察 Notebook 输出变化。  \n",
    "2. 思考：如果两个学生输入相同的名字，列表会怎样？\n"
   ]
  },
  {
   "cell_type": "code",
   "execution_count": 2,
   "id": "58407650",
   "metadata": {},
   "outputs": [
    {
     "name": "stdout",
     "output_type": "stream",
     "text": [
      "✅ Flask Step 2 服务器已启动: http://127.0.0.1:5002/students\n",
      " * Serving Flask app '__main__'\n",
      " * Debug mode: off\n"
     ]
    },
    {
     "name": "stderr",
     "output_type": "stream",
     "text": [
      "WARNING: This is a development server. Do not use it in a production deployment. Use a production WSGI server instead.\n",
      " * Running on http://127.0.0.1:5002\n",
      "Press CTRL+C to quit\n",
      "127.0.0.1 - - [02/Sep/2025 23:19:24] \"GET /students HTTP/1.1\" 200 -\n",
      "127.0.0.1 - - [02/Sep/2025 23:19:30] \"POST /students HTTP/1.1\" 302 -\n",
      "127.0.0.1 - - [02/Sep/2025 23:19:30] \"GET /students HTTP/1.1\" 200 -\n",
      "127.0.0.1 - - [02/Sep/2025 23:19:55] \"POST /students HTTP/1.1\" 302 -\n",
      "127.0.0.1 - - [02/Sep/2025 23:19:55] \"GET /students HTTP/1.1\" 200 -\n",
      "127.0.0.1 - - [02/Sep/2025 23:19:59] \"POST /students HTTP/1.1\" 302 -\n",
      "127.0.0.1 - - [02/Sep/2025 23:19:59] \"GET /students HTTP/1.1\" 200 -\n"
     ]
    }
   ],
   "source": [
    "# ===== 展示层（Flask layer） =====\n",
    "# 在 /students 页面中显示学生列表和一个“添加学生”的表单\n",
    "\n",
    "from flask import Flask, render_template_string, request, redirect, url_for\n",
    "from threading import Thread\n",
    "\n",
    "app2 = Flask(__name__)\n",
    "\n",
    "@app2.route(\"/\")\n",
    "def index():\n",
    "    return \"<h1>学生系统 Step 2</h1><p><a href='/students'>查看学生列表</a></p>\"\n",
    "\n",
    "@app2.route(\"/students\", methods=[\"GET\", \"POST\"])\n",
    "def students_page():\n",
    "    if request.method == \"POST\":\n",
    "        new_name = request.form.get(\"name\")\n",
    "        if new_name:  # 不为空才添加\n",
    "            students.append(new_name)\n",
    "        return redirect(url_for(\"students_page\"))  # 提交后重定向，避免重复提交\n",
    "\n",
    "    # GET 请求：正常显示页面\n",
    "    lines = get_student_lines()\n",
    "    html = \"<h2>学生列表</h2><ul>\"\n",
    "    for line in lines:\n",
    "        html += f\"<li>{line}</li>\"\n",
    "    html += \"</ul>\"\n",
    "    # 添加表单\n",
    "    html += \"\"\"\n",
    "        <h3>添加新学生</h3>\n",
    "        <form method='POST'>\n",
    "            姓名: <input type='text' name='name'>\n",
    "            <input type='submit' value='添加'>\n",
    "        </form>\n",
    "        <p><a href='/'>返回首页</a></p>\n",
    "    \"\"\"\n",
    "    return render_template_string(html)\n",
    "\n",
    "def run_app2():\n",
    "    app2.run(port=5002, debug=False, use_reloader=False)\n",
    "\n",
    "Thread(target=run_app2, daemon=True).start()\n",
    "print(\"✅ Flask Step 2 服务器已启动: http://127.0.0.1:5002/students\")"
   ]
  },
  {
   "cell_type": "markdown",
   "id": "6bdb3cac",
   "metadata": {},
   "source": [
    "### 验证步骤\n",
    "1. 打开 `http://127.0.0.1:5002/students`。  \n",
    "2. 在输入框里输入名字，例如 `David`，点击“添加”。  \n",
    "3. 页面会刷新，`students` 列表里多了 `David`。  \n",
    "\n",
    "### 小练习\n",
    "- 多次输入不同名字，看列表是否持续增长。  \n",
    "- 输入空字符串会怎样？（提示：代码里有 `if new_name:` 判断）  \n",
    "- 改进挑战：阻止重复名字加入（提示：用 `if new_name not in students:`）。  \n"
   ]
  }
 ],
 "metadata": {
  "kernelspec": {
   "display_name": "Python 3 (ipykernel)",
   "language": "python",
   "name": "python3"
  },
  "language_info": {
   "codemirror_mode": {
    "name": "ipython",
    "version": 3
   },
   "file_extension": ".py",
   "mimetype": "text/x-python",
   "name": "python",
   "nbconvert_exporter": "python",
   "pygments_lexer": "ipython3",
   "version": "3.9.13"
  }
 },
 "nbformat": 4,
 "nbformat_minor": 5
}
