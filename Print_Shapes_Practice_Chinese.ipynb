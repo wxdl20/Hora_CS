{
 "cells": [
  {
   "cell_type": "markdown",
   "id": "099b3c53",
   "metadata": {},
   "source": [
    "# 📝 练习：打印几何图形\n",
    "本练习大约 70 分钟，考察：\n",
    "- `int` 类型输入与转换\n",
    "- `for` 循环与嵌套循环\n",
    "- 字符串操作（拼接、乘法、对齐）\n",
    "\n",
    "请逐题完成，并在每道题下方添加你的代码。\n",
    "# 注意一：各题的提示在英文版本里 #\n",
    "# 注意二：1-2人一组，请在这里输入你和你组员的姓名： #"
   ]
  },
  {
   "cell_type": "markdown",
   "id": "3ef5615f",
   "metadata": {},
   "source": [
    "## 🟢 Part A：基础操作"
   ]
  },
  {
   "cell_type": "markdown",
   "id": "7052aab5",
   "metadata": {},
   "source": [
    "### 题目 1：输入整数并打印一条横线\n",
    "- 输入：一个整数 `n`\n",
    "- 输出：一行 `*`，长度为 `n`\n",
    "- 示例：输入 `5`，输出 `*****`\n",
    "\n",
    "👉 在下方代码单元中完成："
   ]
  },
  {
   "cell_type": "code",
   "execution_count": null,
   "id": "22de93d6",
   "metadata": {},
   "outputs": [],
   "source": []
  },
  {
   "cell_type": "markdown",
   "id": "770657fe",
   "metadata": {},
   "source": [
    "### 题目 2：打印一个竖线\n",
    "- 输入：一个整数 `n`\n",
    "- 输出：`n` 行，每行一个 `*`\n",
    "- 示例：输入 `3`，输出：\n",
    "```\n",
    "*\n",
    "*\n",
    "*\n",
    "```\n",
    "👉 在下方代码单元中完成："
   ]
  },
  {
   "cell_type": "code",
   "execution_count": null,
   "id": "7fb4b7e5",
   "metadata": {},
   "outputs": [],
   "source": []
  },
  {
   "cell_type": "markdown",
   "id": "9fd72dc7",
   "metadata": {},
   "source": [
    "## 🟡 Part B：简单几何图形"
   ]
  },
  {
   "cell_type": "markdown",
   "id": "9a8f8fd5",
   "metadata": {},
   "source": [
    "### 题目 3：打印一个矩形\n",
    "- 输入：宽度 `w` 和高度 `h`\n",
    "- 输出：`h` 行，每行 `w` 个 `*`\n",
    "- 示例：输入 `w=4, h=3`，输出：\n",
    "```\n",
    "****\n",
    "****\n",
    "****\n",
    "```\n",
    "👉 在下方代码单元中完成："
   ]
  },
  {
   "cell_type": "code",
   "execution_count": null,
   "id": "fcc3f66d",
   "metadata": {},
   "outputs": [],
   "source": []
  },
  {
   "cell_type": "markdown",
   "id": "cf49b085",
   "metadata": {},
   "source": [
    "### 题目 4：打印一个右三角形\n",
    "- 输入：整数 `n`\n",
    "- 输出：右角在左下的三角形\n",
    "- 示例：输入 `4`，输出：\n",
    "```\n",
    "*\n",
    "**\n",
    "***\n",
    "****\n",
    "```\n",
    "👉 在下方代码单元中完成："
   ]
  },
  {
   "cell_type": "code",
   "execution_count": null,
   "id": "d47e1613",
   "metadata": {},
   "outputs": [],
   "source": []
  },
  {
   "cell_type": "markdown",
   "id": "b2e66ca3",
   "metadata": {},
   "source": [
    "## 🔵 Part C：进阶"
   ]
  },
  {
   "cell_type": "markdown",
   "id": "745094df",
   "metadata": {},
   "source": [
    "### 题目 5：打印一个等腰三角形\n",
    "- 输入：高度 `n`\n",
    "- 输出：居中的等腰三角形\n",
    "- 示例：输入 `3`，输出：\n",
    "```\n",
    "  *\n",
    " ***\n",
    "*****\n",
    "```\n",
    "👉 在下方代码单元中完成："
   ]
  },
  {
   "cell_type": "code",
   "execution_count": null,
   "id": "76146cde",
   "metadata": {},
   "outputs": [],
   "source": []
  },
  {
   "cell_type": "markdown",
   "id": "baa7227f",
   "metadata": {},
   "source": [
    "### 题目 6：打印一个倒三角形\n",
    "- 输入：高度 `n`\n",
    "- 输出：从宽到窄的倒三角形\n",
    "- 示例：输入 `3`，输出：\n",
    "```\n",
    "*****\n",
    " ***\n",
    "  *\n",
    "```\n",
    "👉 在下方代码单元中完成："
   ]
  },
  {
   "cell_type": "code",
   "execution_count": null,
   "id": "dbfeceae",
   "metadata": {},
   "outputs": [],
   "source": []
  },
  {
   "cell_type": "markdown",
   "id": "10855c6c",
   "metadata": {},
   "source": [
    "### 题目 7（挑战）：打印菱形\n",
    "- 输入：一个奇数 `n`（如 5）\n",
    "- 输出：上半部分和下半部分组合成菱形\n",
    "- 示例：输入 `5`，输出：\n",
    "```\n",
    "  *\n",
    " ***\n",
    "*****\n",
    " ***\n",
    "  *\n",
    "```\n",
    "👉 在下方代码单元中完成："
   ]
  },
  {
   "cell_type": "code",
   "execution_count": null,
   "id": "1cc2681c",
   "metadata": {},
   "outputs": [],
   "source": []
  },
  {
   "cell_type": "markdown",
   "id": "e6ad4c03",
   "metadata": {},
   "source": [
    "## 🔴 Part D：综合与创意"
   ]
  },
  {
   "cell_type": "markdown",
   "id": "41e02aa1",
   "metadata": {},
   "source": [
    "### 题目 8：自由设计\n",
    "- 自选一种几何图形或图案，打印出来。\n",
    "- 可以使用任意符号（如 `#`、`$`）。\n",
    "- 尝试加入自己的创意（例如多种符号组合）。\n",
    "👉 在下方代码单元中完成："
   ]
  },
  {
   "cell_type": "code",
   "execution_count": null,
   "id": "b390a337",
   "metadata": {},
   "outputs": [],
   "source": []
  }
 ],
 "metadata": {
  "kernelspec": {
   "display_name": "Python 3 (ipykernel)",
   "language": "python",
   "name": "python3"
  },
  "language_info": {
   "codemirror_mode": {
    "name": "ipython",
    "version": 3
   },
   "file_extension": ".py",
   "mimetype": "text/x-python",
   "name": "python",
   "nbconvert_exporter": "python",
   "pygments_lexer": "ipython3",
   "version": "3.9.13"
  }
 },
 "nbformat": 4,
 "nbformat_minor": 5
}
