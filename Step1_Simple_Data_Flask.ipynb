{
 "cells": [
  {
   "cell_type": "markdown",
   "id": "0044fdf7",
   "metadata": {},
   "source": [
    "# Step 1 — 最朴素的数据 + Flask 显示\n",
    "\n",
    "**目标（Goal）**：  \n",
    "- 了解“数据层（Python 列表）”和“展示层（Flask 网页）”之间的关系。  \n",
    "- 用最简单的 `students` 列表储存数据，看到网页如何把数据展示出来。\n",
    "\n",
    "**使用顺序（Very important）**：  \n",
    "1. 先运行 **数据单元格（Data cell）**（运行可打印并查看学生列表）。  \n",
    "2. 然后运行 **Flask 单元格（Flask cell）** 启动服务器。  \n",
    "3. 在浏览器打开 `http://127.0.0.1:5001/students` 查看结果。  \n",
    "4. 若要修改数据，编辑并重新运行“数据单元格”，然后刷新网页即可看到更新（不必重启服务器）。\n"
   ]
  },
  {
   "cell_type": "code",
   "execution_count": 2,
   "id": "294faebe",
   "metadata": {},
   "outputs": [
    {
     "name": "stdout",
     "output_type": "stream",
     "text": [
      "Python 层：students 列表（直接在 Notebook 中查看）\n",
      "1. Alice\n",
      "2. Bob\n",
      "3. Charlie\n",
      "\n",
      "Formatted lines for display:\n",
      "1. Alice\n",
      "2. Bob\n",
      "3. Charlie\n"
     ]
    }
   ],
   "source": [
    "# ===== 数据层（Data layer） - 最朴素的实现 =====\n",
    "# 请先运行此单元格，再运行下面的 Flask 单元格\n",
    "\n",
    "students = [\"Alice\", \"Bob\", \"Charlie\"]\n",
    "\n",
    "print(\"Python 层：students 列表（直接在 Notebook 中查看）\")\n",
    "for i, name in enumerate(students, start=1):\n",
    "    print(f\"{i}. {name}\")\n",
    "\n",
    "# 小函数：把 students 格式化成一行列表（Flask 会调用它来显示）\n",
    "def get_student_lines():\n",
    "    \"\"\"返回字符串列表，每个字符串是一行人的描述。\"\"\"\n",
    "    return [f\"{i+1}. {name}\" for i, name in enumerate(students)]\n",
    "\n",
    "# 演示：打印格式化后的 lines\n",
    "print(\"\\nFormatted lines for display:\")\n",
    "for line in get_student_lines():\n",
    "    print(line)\n"
   ]
  },
  {
   "cell_type": "markdown",
   "id": "d23613e7",
   "metadata": {},
   "source": [
    "### 小练习\n",
    "1. 修改上面的 `students` 列表，加一位同学（例如 `\"David\"`），然后重新运行上面的单元格，观察 Notebook 输出变化。  \n",
    "2. 思考：当你在 Notebook 修改 `students` 后，网页会不会马上变化？（提示：刷新网页可以看到最新内容）\n"
   ]
  },
  {
   "cell_type": "code",
   "execution_count": 3,
   "id": "5803c34a-3103-44c6-9aad-ca2bc408b01b",
   "metadata": {},
   "outputs": [],
   "source": [
    "#修改上面的 students 列表，加一位同学（例如 \"David\"）"
   ]
  },
  {
   "cell_type": "code",
   "execution_count": 4,
   "id": "5334935b-81b2-4e9c-b861-be8577ce47ee",
   "metadata": {},
   "outputs": [],
   "source": [
    "#重新运行上面的单元格，观察 Notebook 输出变化"
   ]
  },
  {
   "cell_type": "code",
   "execution_count": 5,
   "id": "bfc2b7e7",
   "metadata": {},
   "outputs": [
    {
     "name": "stdout",
     "output_type": "stream",
     "text": [
      "✅ Flask 服务器已在后台启动： http://127.0.0.1:5001/ (打开 /students 查看)\n",
      " * Serving Flask app '__main__'\n",
      " * Debug mode: off\n"
     ]
    },
    {
     "name": "stderr",
     "output_type": "stream",
     "text": [
      "Address already in use\n",
      "Port 5001 is in use by another program. Either identify and stop that program, or start the server with a different port.\n"
     ]
    }
   ],
   "source": [
    "# ===== 展示层（Flask layer） - 使用上面定义的数据 =====\n",
    "# 运行此单元格以启动 Flask（在 Jupyter 中以后台线程运行）。\n",
    "# 该页面会调用 get_student_lines() 来获取当前 students 的内容。\n",
    "\n",
    "from flask import Flask, render_template_string\n",
    "from threading import Thread\n",
    "\n",
    "app = Flask(__name__)\n",
    "\n",
    "@app.route(\"/\")\n",
    "def index():\n",
    "    return \"<h1>最朴素的学生系统（Step 1）</h1><p><a href='/students'>查看学生列表</a></p>\"\n",
    "\n",
    "@app.route(\"/students\")\n",
    "def students_page():\n",
    "    # Flask 调用数据层的 get_student_lines()，然后把结果拼成 HTML\n",
    "    lines = get_student_lines()  # 注意：这个函数在“数据单元格”中定义\n",
    "    html = \"<h2>学生列表</h2><ul>\"\n",
    "    for line in lines:\n",
    "        html += f\"<li>{line}</li>\"\n",
    "    html += \"</ul><p><a href='/'>返回</a></p>\"\n",
    "    return render_template_string(html)\n",
    "\n",
    "def run_app():\n",
    "    app.run(port=5001, debug=False, use_reloader=False)\n",
    "\n",
    "# 启动服务器（后台线程），如果端口被占用请修改 port 数字或先释放端口\n",
    "Thread(target=run_app, daemon=True).start()\n",
    "print('✅ Flask 服务器已在后台启动： http://127.0.0.1:5001/ (打开 /students 查看)')"
   ]
  },
  {
   "cell_type": "markdown",
   "id": "a850e3cb",
   "metadata": {},
   "source": [
    "### 验证步骤与小提示\n",
    "\n",
    "- 在浏览器打开：`http://127.0.0.1:5001/students`。你会看到由 Python 列表 `students` 生成的一组条目。  \n",
    "- **修改数据**：在 Notebook 中编辑 `students`（第 2 个单元），例如 `students.append('Zoe')`，运行该单元格后刷新网页，你会看到新增的名字。  \n",
    "- **重要提示**：不要在启动服务器后随意再次用 `@app.route` 新增路由（这会导致错误）。如果需要改路由，请先重启 Kernel 或释放端口并从头运行所有单元格。  \n"
   ]
  },
  {
   "cell_type": "code",
   "execution_count": null,
   "id": "d9761a1d-817a-438d-adfd-3a8fa35fa467",
   "metadata": {},
   "outputs": [],
   "source": [
    "#在浏览器中打开  http://127.0.0.1:5001/students"
   ]
  },
  {
   "cell_type": "code",
   "execution_count": null,
   "id": "0c95df2c-6200-4d0d-aec3-8a1bec290425",
   "metadata": {},
   "outputs": [],
   "source": [
    "#修改变量students"
   ]
  },
  {
   "cell_type": "code",
   "execution_count": null,
   "id": "9e7a796e-f816-4e64-ab13-23444e04bf06",
   "metadata": {},
   "outputs": [],
   "source": [
    "#刷新网页 http://127.0.0.1:5001/students"
   ]
  },
  {
   "cell_type": "markdown",
   "id": "4c6cca87",
   "metadata": {},
   "source": [
    "### 小拓展挑战（可选）\n",
    "- 把 `get_student_lines()` 改成显示 `ID`：例如 `1 | Alice` 形式（Hint：用 enumerate）。  \n",
    "- 在数据单元里把 students 改成字典形式（`[{'id':1,'name':'Alice'}, ...]`），然后修改 `get_student_lines()` 适配新格式。\n"
   ]
  },
  {
   "cell_type": "code",
   "execution_count": null,
   "id": "d1c298b4-cd55-4fe9-a4a4-1a52fbb5122b",
   "metadata": {},
   "outputs": [],
   "source": [
    "#可以询问ChatGPT"
   ]
  }
 ],
 "metadata": {
  "kernelspec": {
   "display_name": "Python 3 (ipykernel)",
   "language": "python",
   "name": "python3"
  },
  "language_info": {
   "codemirror_mode": {
    "name": "ipython",
    "version": 3
   },
   "file_extension": ".py",
   "mimetype": "text/x-python",
   "name": "python",
   "nbconvert_exporter": "python",
   "pygments_lexer": "ipython3",
   "version": "3.9.13"
  }
 },
 "nbformat": 4,
 "nbformat_minor": 5
}
