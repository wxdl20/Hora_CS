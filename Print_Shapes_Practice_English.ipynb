{
 "cells": [
  {
   "cell_type": "markdown",
   "id": "03619030",
   "metadata": {},
   "source": [
    "# 📝 Practice: Print Geometric Shapes\n",
    "This practice takes about **70 minutes** and assesses:\n",
    "- Using `int` input and conversion\n",
    "- `for` loops and nested loops\n",
    "- String operations (concatenation, multiplication, alignment)\n",
    "\n",
    "Follow the tasks step by step. Each problem includes hints to help you.\n",
    "# Note: If you are in a group of 1-2 people, please enter your and your team members' names here: #"
   ]
  },
  {
   "cell_type": "markdown",
   "id": "860c8fb1",
   "metadata": {},
   "source": [
    "## 🟢 Part A: Basics"
   ]
  },
  {
   "cell_type": "markdown",
   "id": "b687cf2e",
   "metadata": {},
   "source": [
    "### Task 1: Print a horizontal line\n",
    "- Input: An integer `n`\n",
    "- Output: A single line of `*` with length `n`\n",
    "- Example: Input `5`, Output: `*****`\n",
    "\n",
    "**Hint:** Use `int(input())` to get a number and `'*' * n` to repeat a character."
   ]
  },
  {
   "cell_type": "code",
   "execution_count": null,
   "id": "d31ebf3a",
   "metadata": {},
   "outputs": [],
   "source": []
  },
  {
   "cell_type": "markdown",
   "id": "72151f7e",
   "metadata": {},
   "source": [
    "### Task 2: Print a vertical line\n",
    "- Input: An integer `n`\n",
    "- Output: `n` lines, each with a single `*`\n",
    "- Example (Input `3`):\n",
    "```\n",
    "*\n",
    "*\n",
    "*\n",
    "```\n",
    "**Hint:** Use a `for` loop to print multiple lines."
   ]
  },
  {
   "cell_type": "code",
   "execution_count": null,
   "id": "e5a80b48",
   "metadata": {},
   "outputs": [],
   "source": []
  },
  {
   "cell_type": "markdown",
   "id": "239e3837",
   "metadata": {},
   "source": [
    "## 🟡 Part B: Simple Shapes"
   ]
  },
  {
   "cell_type": "markdown",
   "id": "e8fb87f6",
   "metadata": {},
   "source": [
    "### Task 3: Print a rectangle\n",
    "- Input: Width `w` and height `h`\n",
    "- Output: `h` lines, each with `w` stars\n",
    "- Example (w=4, h=3):\n",
    "```\n",
    "****\n",
    "****\n",
    "****\n",
    "```\n",
    "**Hint:** Use a loop for the rows and `'*' * w` for each line."
   ]
  },
  {
   "cell_type": "code",
   "execution_count": null,
   "id": "6cb39441",
   "metadata": {},
   "outputs": [],
   "source": []
  },
  {
   "cell_type": "markdown",
   "id": "339ddf09",
   "metadata": {},
   "source": [
    "### Task 4: Print a right triangle\n",
    "- Input: An integer `n`\n",
    "- Output: A triangle with the right angle at the bottom left\n",
    "- Example (n=4):\n",
    "```\n",
    "*\n",
    "**\n",
    "***\n",
    "****\n",
    "```\n",
    "**Hint:** Observe that each line has one more `*` than the previous."
   ]
  },
  {
   "cell_type": "code",
   "execution_count": null,
   "id": "e546f543",
   "metadata": {},
   "outputs": [],
   "source": []
  },
  {
   "cell_type": "markdown",
   "id": "122a6aec",
   "metadata": {},
   "source": [
    "## 🔵 Part C: Advanced"
   ]
  },
  {
   "cell_type": "markdown",
   "id": "02075f23",
   "metadata": {},
   "source": [
    "### Task 5: Print an isosceles triangle\n",
    "- Input: Height `n`\n",
    "- Output: A centered isosceles triangle\n",
    "- Example (n=3):\n",
    "```\n",
    "  *\n",
    " ***\n",
    "*****\n",
    "```\n",
    "**Hint:** Use spaces for alignment: spaces = `n - i - 1`, stars = `2*i + 1`. Use `' ' * spaces` and `'*' * stars`."
   ]
  },
  {
   "cell_type": "code",
   "execution_count": null,
   "id": "61cebd3b",
   "metadata": {},
   "outputs": [],
   "source": []
  },
  {
   "cell_type": "markdown",
   "id": "f19d777b",
   "metadata": {},
   "source": [
    "### Task 6: Print an inverted triangle\n",
    "- Input: Height `n`\n",
    "- Output: An inverted triangle from wide to narrow\n",
    "- Example (n=3):\n",
    "```\n",
    "*****\n",
    " ***\n",
    "  *\n",
    "```\n",
    "**Hint:** Start from the widest line and decrease stars each row."
   ]
  },
  {
   "cell_type": "code",
   "execution_count": null,
   "id": "01e519db",
   "metadata": {},
   "outputs": [],
   "source": []
  },
  {
   "cell_type": "markdown",
   "id": "eb9ad992",
   "metadata": {},
   "source": [
    "### Task 7 (Challenge): Print a diamond\n",
    "- Input: An odd number `n` (e.g., 5)\n",
    "- Output: A diamond shape\n",
    "- Example (n=5):\n",
    "```\n",
    "  *\n",
    " ***\n",
    "*****\n",
    " ***\n",
    "  *\n",
    "```\n",
    "**Hint:** Split into two parts: an isosceles triangle on top and an inverted triangle on the bottom."
   ]
  },
  {
   "cell_type": "code",
   "execution_count": null,
   "id": "493f6d8d",
   "metadata": {},
   "outputs": [],
   "source": []
  },
  {
   "cell_type": "markdown",
   "id": "2137d53c",
   "metadata": {},
   "source": [
    "## 🔴 Part D: Creativity"
   ]
  },
  {
   "cell_type": "markdown",
   "id": "f7fb6ddc",
   "metadata": {},
   "source": [
    "### Task 8: Design your own pattern\n",
    "- Create any shape or pattern you like using symbols (e.g., `#`, `$`).\n",
    "- Try to combine multiple shapes or alignments.\n",
    "**Hint:** Modify previous code to create something unique!"
   ]
  },
  {
   "cell_type": "code",
   "execution_count": null,
   "id": "1c2aa897",
   "metadata": {},
   "outputs": [],
   "source": []
  }
 ],
 "metadata": {
  "kernelspec": {
   "display_name": "Python 3 (ipykernel)",
   "language": "python",
   "name": "python3"
  },
  "language_info": {
   "codemirror_mode": {
    "name": "ipython",
    "version": 3
   },
   "file_extension": ".py",
   "mimetype": "text/x-python",
   "name": "python",
   "nbconvert_exporter": "python",
   "pygments_lexer": "ipython3",
   "version": "3.9.13"
  }
 },
 "nbformat": 4,
 "nbformat_minor": 5
}
